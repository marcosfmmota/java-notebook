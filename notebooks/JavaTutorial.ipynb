{
 "cells": [
  {
   "cell_type": "markdown",
   "metadata": {
    "slideshow": {
     "slide_type": "slide"
    }
   },
   "source": [
    "# Java Tutorial for Beginners\n"
   ]
  },
  {
   "cell_type": "markdown",
   "metadata": {
    "slideshow": {
     "slide_type": "fragment"
    }
   },
   "source": [
    "### Institute of Computing - Unicamp\n",
    "\n",
    "**Author**:Marcos Mota"
   ]
  },
  {
   "cell_type": "markdown",
   "metadata": {
    "slideshow": {
     "slide_type": "slide"
    }
   },
   "source": [
    "## Cell execution\n",
    "Using the IJava Kernel you can write any Java expression to be evaluated. <br>\n",
    "(You can run the cell using CTRL+Enter)"
   ]
  },
  {
   "cell_type": "code",
   "execution_count": 2,
   "metadata": {
    "slideshow": {
     "slide_type": "fragment"
    }
   },
   "outputs": [
    {
     "data": {
      "text/plain": [
       "Hello!"
      ]
     },
     "execution_count": 2,
     "metadata": {},
     "output_type": "execute_result"
    }
   ],
   "source": [
    "String hi = \"Hello!\";\n",
    "hi"
   ]
  },
  {
   "cell_type": "code",
   "execution_count": 2,
   "metadata": {
    "hide_input": true,
    "slideshow": {
     "slide_type": "skip"
    }
   },
   "outputs": [],
   "source": [
    "String[] args = null;"
   ]
  },
  {
   "cell_type": "markdown",
   "metadata": {
    "slideshow": {
     "slide_type": "slide"
    }
   },
   "source": [
    "## First Program in Java\n",
    "**You can change the cell to see different outputs**"
   ]
  },
  {
   "cell_type": "code",
   "execution_count": 3,
   "metadata": {
    "slideshow": {
     "slide_type": "fragment"
    }
   },
   "outputs": [],
   "source": [
    "\n",
    "public class HelloWorld {\n",
    "    \n",
    "    public static void main(String[] args){\n",
    "        \n",
    "        System.out.println(\"Hello World!\");\n",
    "    }\n",
    "}"
   ]
  },
  {
   "cell_type": "code",
   "execution_count": 4,
   "metadata": {
    "hide_input": true,
    "slideshow": {
     "slide_type": "fragment"
    }
   },
   "outputs": [
    {
     "name": "stdout",
     "output_type": "stream",
     "text": [
      "Hello World!\n"
     ]
    }
   ],
   "source": [
    "HelloWorld.main(args)"
   ]
  },
  {
   "cell_type": "markdown",
   "metadata": {
    "slideshow": {
     "slide_type": "slide"
    }
   },
   "source": [
    "## Variables and Operators"
   ]
  },
  {
   "cell_type": "markdown",
   "metadata": {
    "slideshow": {
     "slide_type": "fragment"
    }
   },
   "source": [
    "Variables are names given to data  thar we need to store and manipulate in our programs.\n",
    "\n",
    "For example: \n",
    "> int userAge;"
   ]
  },
  {
   "cell_type": "markdown",
   "metadata": {
    "slideshow": {
     "slide_type": "slide"
    }
   },
   "source": [
    "## Primitive Data Types in Java"
   ]
  },
  {
   "cell_type": "markdown",
   "metadata": {
    "slideshow": {
     "slide_type": "fragment"
    }
   },
   "source": [
    "| Data Type | Descriptrion                                                                                                                                                 |\n",
    "|-----------|--------------------------------------------------------------------------------------------------------------------------------------------------------------|\n",
    "| byte      | The byte data type is used for storing integers from -128 to 127. It uses 1 byte of storage space.                                                           |\n",
    "| short     | The short data type uses 2 bytes of storage space and has a range of -32768 to 32767.                                                                        |\n",
    "| int       | The int data type uses 4 bytes of storage space and has a range of -2^31 (-2147483648) to 2^31 -1(2147483647).                                               |\n",
    "| long      | The long data type uses 8 bytes of storage space and has a range of -2^63  to 2^63 - 1.                                                                      |\n",
    "| float     | The float data type uses 4 bytes of storage and has a range of approximately negative 3.40282347 x 10^38 to positive 3.40282347 x 10^38.                     |\n",
    "| double    | The double data type uses 8 bytes of storage and has a range of approximately negative 1.79769313486231570 x 10^308 to positive 1.79769313486231570 x 10^308 |\n",
    "| char      | char stands for character and is used to store single Unicode.                                                                                               |\n",
    "| boolean   | boolean is a special data type that can only hold two values: true and false.                                                                                |"
   ]
  },
  {
   "cell_type": "markdown",
   "metadata": {
    "slideshow": {
     "slide_type": "slide"
    }
   },
   "source": [
    "## Strings and Arrays"
   ]
  },
  {
   "cell_type": "code",
   "execution_count": 5,
   "metadata": {
    "slideshow": {
     "slide_type": "fragment"
    }
   },
   "outputs": [
    {
     "data": {
      "text/plain": [
       "11"
      ]
     },
     "execution_count": 5,
     "metadata": {},
     "output_type": "execute_result"
    }
   ],
   "source": [
    "\"Hello World\".length()"
   ]
  }
 ],
 "metadata": {
  "celltoolbar": "Slideshow",
  "kernelspec": {
   "display_name": "Java",
   "language": "java",
   "name": "java"
  },
  "language_info": {
   "codemirror_mode": "java",
   "file_extension": ".java",
   "mimetype": "text/x-java-source",
   "name": "Java",
   "pygments_lexer": "java",
   "version": "10.0.2+13-Ubuntu-1ubuntu0.18.04.4"
  }
 },
 "nbformat": 4,
 "nbformat_minor": 2
}
